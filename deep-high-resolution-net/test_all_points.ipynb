{
 "cells": [
  {
   "cell_type": "code",
   "execution_count": 1,
   "metadata": {},
   "outputs": [],
   "source": [
    "import json\n",
    "\n",
    "def one_point(point):\n",
    "     \n",
    "    fin = open('data/drawings/annotations/init.json')\n",
    "\n",
    "    data = json.load(fin)\n",
    "\n",
    "    for idx, character in enumerate(data['annotations']):\n",
    "        keypoints = character['keypoints']\n",
    "        data['annotations'][idx]['num_keypoints'] = 12\n",
    "        hands = [0, 5, 6, 7, 0, 2, 3, 4]\n",
    "        legs = [13, 14, 15, 10, 11, 12]\n",
    "        others = [0, 1, 8, 9, 16, 17]\n",
    "        new_keypoints = []\n",
    "        for i in others:\n",
    "            x, y, t = keypoints[3 * i : 3 * i + 3]\n",
    "            new_keypoints.append(x)\n",
    "            new_keypoints.append(y)\n",
    "            new_keypoints.append(2)\n",
    "    #         new_keypoints.append(0)\n",
    "\n",
    "        new_keypoints.append(0)\n",
    "        new_keypoints.append(0)\n",
    "        new_keypoints.append(2)\n",
    "    #     new_keypoints.append(0)\n",
    "\n",
    "        for i in hands + legs:\n",
    "            if i == 0:\n",
    "                x, y, t = 0, 0, 0\n",
    "            else:\n",
    "                x, y, t = keypoints[3 * i : 3 * i + 3]\n",
    "            new_keypoints.append(x)\n",
    "            new_keypoints.append(y)\n",
    "    #         new_keypoints.append(t)\n",
    "            new_keypoints.append(2)\n",
    "\n",
    "        for i in range(21):\n",
    "            if i != point:\n",
    "                new_keypoints[i * 3 + 2] = 0\n",
    "\n",
    "        data['annotations'][idx]['keypoints'] = new_keypoints\n",
    "        \n",
    "    fout = open('data/drawings/annotations/person_keypoints_eval_sketch.json', 'w')\n",
    "    json.dump(data, fout)\n",
    "    "
   ]
  },
  {
   "cell_type": "code",
   "execution_count": 1,
   "metadata": {},
   "outputs": [],
   "source": [
    "import cv2"
   ]
  },
  {
   "cell_type": "code",
   "execution_count": 2,
   "metadata": {},
   "outputs": [],
   "source": [
    "from matplotlib import pyplot as plt"
   ]
  },
  {
   "cell_type": "code",
   "execution_count": 2,
   "metadata": {},
   "outputs": [],
   "source": [
    "one_point(0)\n",
    "\n",
    "!rm data/drawings/annotations/person_keypoints_eval.json\n",
    "!cp data/drawings/annotations/person_keypoints_eval_sketch.json data/drawings/annotations/person_keypoints_eval.json"
   ]
  },
  {
   "cell_type": "code",
   "execution_count": 3,
   "metadata": {},
   "outputs": [],
   "source": [
    "!cp output/drawings/pose_hrnet/main_drawings_sketch/val_0_pred.jpg data/drawings/output_val_images/val_0_pred.jpg\n",
    "\n",
    "one_point(1)\n",
    "\n",
    "!rm data/drawings/annotations/person_keypoints_eval.json\n",
    "!cp data/drawings/annotations/person_keypoints_eval_sketch.json data/drawings/annotations/person_keypoints_eval.json"
   ]
  },
  {
   "cell_type": "code",
   "execution_count": 4,
   "metadata": {},
   "outputs": [],
   "source": [
    "!cp output/drawings/pose_hrnet/main_drawings_sketch/val_0_pred.jpg data/drawings/output_val_images/val_1_pred.jpg\n",
    "\n",
    "one_point(2)\n",
    "\n",
    "!rm data/drawings/annotations/person_keypoints_eval.json\n",
    "!cp data/drawings/annotations/person_keypoints_eval_sketch.json data/drawings/annotations/person_keypoints_eval.json"
   ]
  },
  {
   "cell_type": "code",
   "execution_count": 5,
   "metadata": {},
   "outputs": [],
   "source": [
    "!cp output/drawings/pose_hrnet/main_drawings_sketch/val_0_pred.jpg data/drawings/output_val_images/val_2_pred.jpg\n",
    "\n",
    "one_point(3)\n",
    "\n",
    "!rm data/drawings/annotations/person_keypoints_eval.json\n",
    "!cp data/drawings/annotations/person_keypoints_eval_sketch.json data/drawings/annotations/person_keypoints_eval.json"
   ]
  },
  {
   "cell_type": "code",
   "execution_count": 6,
   "metadata": {},
   "outputs": [],
   "source": [
    "!cp output/drawings/pose_hrnet/main_drawings_sketch/val_0_pred.jpg data/drawings/output_val_images/val_3_pred.jpg\n",
    "\n",
    "one_point(4)\n",
    "\n",
    "!rm data/drawings/annotations/person_keypoints_eval.json\n",
    "!cp data/drawings/annotations/person_keypoints_eval_sketch.json data/drawings/annotations/person_keypoints_eval.json"
   ]
  },
  {
   "cell_type": "code",
   "execution_count": 7,
   "metadata": {},
   "outputs": [],
   "source": [
    "!cp output/drawings/pose_hrnet/main_drawings_sketch/val_0_pred.jpg data/drawings/output_val_images/val_4_pred.jpg\n",
    "\n",
    "one_point(5)\n",
    "\n",
    "!rm data/drawings/annotations/person_keypoints_eval.json\n",
    "!cp data/drawings/annotations/person_keypoints_eval_sketch.json data/drawings/annotations/person_keypoints_eval.json"
   ]
  },
  {
   "cell_type": "code",
   "execution_count": 8,
   "metadata": {},
   "outputs": [],
   "source": [
    "!cp output/drawings/pose_hrnet/main_drawings_sketch/val_0_pred.jpg data/drawings/output_val_images/val_5_pred.jpg\n",
    "\n",
    "one_point(6)\n",
    "\n",
    "!rm data/drawings/annotations/person_keypoints_eval.json\n",
    "!cp data/drawings/annotations/person_keypoints_eval_sketch.json data/drawings/annotations/person_keypoints_eval.json"
   ]
  },
  {
   "cell_type": "code",
   "execution_count": 9,
   "metadata": {},
   "outputs": [],
   "source": [
    "!cp output/drawings/pose_hrnet/main_drawings_sketch/val_0_pred.jpg data/drawings/output_val_images/val_6_pred.jpg\n",
    "\n",
    "one_point(7)\n",
    "\n",
    "!rm data/drawings/annotations/person_keypoints_eval.json\n",
    "!cp data/drawings/annotations/person_keypoints_eval_sketch.json data/drawings/annotations/person_keypoints_eval.json"
   ]
  },
  {
   "cell_type": "code",
   "execution_count": 10,
   "metadata": {},
   "outputs": [],
   "source": [
    "!cp output/drawings/pose_hrnet/main_drawings_sketch/val_0_pred.jpg data/drawings/output_val_images/val_7_pred.jpg\n",
    "\n",
    "one_point(8)\n",
    "\n",
    "!rm data/drawings/annotations/person_keypoints_eval.json\n",
    "!cp data/drawings/annotations/person_keypoints_eval_sketch.json data/drawings/annotations/person_keypoints_eval.json"
   ]
  },
  {
   "cell_type": "code",
   "execution_count": 11,
   "metadata": {},
   "outputs": [],
   "source": [
    "!cp output/drawings/pose_hrnet/main_drawings_sketch/val_0_pred.jpg data/drawings/output_val_images/val_8_pred.jpg\n",
    "\n",
    "one_point(9)\n",
    "\n",
    "!rm data/drawings/annotations/person_keypoints_eval.json\n",
    "!cp data/drawings/annotations/person_keypoints_eval_sketch.json data/drawings/annotations/person_keypoints_eval.json"
   ]
  },
  {
   "cell_type": "code",
   "execution_count": 12,
   "metadata": {},
   "outputs": [],
   "source": [
    "!cp output/drawings/pose_hrnet/main_drawings_sketch/val_0_pred.jpg data/drawings/output_val_images/val_9_pred.jpg\n",
    "\n",
    "one_point(10)\n",
    "\n",
    "!rm data/drawings/annotations/person_keypoints_eval.json\n",
    "!cp data/drawings/annotations/person_keypoints_eval_sketch.json data/drawings/annotations/person_keypoints_eval.json"
   ]
  },
  {
   "cell_type": "code",
   "execution_count": 13,
   "metadata": {},
   "outputs": [],
   "source": [
    "!cp output/drawings/pose_hrnet/main_drawings_sketch/val_0_pred.jpg data/drawings/output_val_images/val_10_pred.jpg\n",
    "\n",
    "one_point(11)\n",
    "\n",
    "!rm data/drawings/annotations/person_keypoints_eval.json\n",
    "!cp data/drawings/annotations/person_keypoints_eval_sketch.json data/drawings/annotations/person_keypoints_eval.json"
   ]
  },
  {
   "cell_type": "code",
   "execution_count": 14,
   "metadata": {},
   "outputs": [],
   "source": [
    "!cp output/drawings/pose_hrnet/main_drawings_sketch/val_0_pred.jpg data/drawings/output_val_images/val_11_pred.jpg\n",
    "\n",
    "one_point(12)\n",
    "\n",
    "!rm data/drawings/annotations/person_keypoints_eval.json\n",
    "!cp data/drawings/annotations/person_keypoints_eval_sketch.json data/drawings/annotations/person_keypoints_eval.json"
   ]
  },
  {
   "cell_type": "code",
   "execution_count": 15,
   "metadata": {},
   "outputs": [],
   "source": [
    "!cp output/drawings/pose_hrnet/main_drawings_sketch/val_0_pred.jpg data/drawings/output_val_images/val_12_pred.jpg\n",
    "\n",
    "one_point(13)\n",
    "\n",
    "!rm data/drawings/annotations/person_keypoints_eval.json\n",
    "!cp data/drawings/annotations/person_keypoints_eval_sketch.json data/drawings/annotations/person_keypoints_eval.json"
   ]
  },
  {
   "cell_type": "code",
   "execution_count": 16,
   "metadata": {},
   "outputs": [],
   "source": [
    "!cp output/drawings/pose_hrnet/main_drawings_sketch/val_0_pred.jpg data/drawings/output_val_images/val_13_pred.jpg\n",
    "\n",
    "one_point(14)\n",
    "\n",
    "!rm data/drawings/annotations/person_keypoints_eval.json\n",
    "!cp data/drawings/annotations/person_keypoints_eval_sketch.json data/drawings/annotations/person_keypoints_eval.json"
   ]
  },
  {
   "cell_type": "code",
   "execution_count": 17,
   "metadata": {},
   "outputs": [],
   "source": [
    "!cp output/drawings/pose_hrnet/main_drawings_sketch/val_0_pred.jpg data/drawings/output_val_images/val_14_pred.jpg\n",
    "\n",
    "one_point(15)\n",
    "\n",
    "!rm data/drawings/annotations/person_keypoints_eval.json\n",
    "!cp data/drawings/annotations/person_keypoints_eval_sketch.json data/drawings/annotations/person_keypoints_eval.json"
   ]
  },
  {
   "cell_type": "code",
   "execution_count": 18,
   "metadata": {},
   "outputs": [],
   "source": [
    "!cp output/drawings/pose_hrnet/main_drawings_sketch/val_0_pred.jpg data/drawings/output_val_images/val_15_pred.jpg\n",
    "\n",
    "one_point(16)\n",
    "\n",
    "!rm data/drawings/annotations/person_keypoints_eval.json\n",
    "!cp data/drawings/annotations/person_keypoints_eval_sketch.json data/drawings/annotations/person_keypoints_eval.json"
   ]
  },
  {
   "cell_type": "code",
   "execution_count": 19,
   "metadata": {},
   "outputs": [],
   "source": [
    "!cp output/drawings/pose_hrnet/main_drawings_sketch/val_0_pred.jpg data/drawings/output_val_images/val_16_pred.jpg\n",
    "\n",
    "one_point(17)\n",
    "\n",
    "!rm data/drawings/annotations/person_keypoints_eval.json\n",
    "!cp data/drawings/annotations/person_keypoints_eval_sketch.json data/drawings/annotations/person_keypoints_eval.json"
   ]
  },
  {
   "cell_type": "code",
   "execution_count": 20,
   "metadata": {},
   "outputs": [],
   "source": [
    "!cp output/drawings/pose_hrnet/main_drawings_sketch/val_0_pred.jpg data/drawings/output_val_images/val_17_pred.jpg\n",
    "\n",
    "one_point(18)\n",
    "\n",
    "!rm data/drawings/annotations/person_keypoints_eval.json\n",
    "!cp data/drawings/annotations/person_keypoints_eval_sketch.json data/drawings/annotations/person_keypoints_eval.json"
   ]
  },
  {
   "cell_type": "code",
   "execution_count": 21,
   "metadata": {},
   "outputs": [],
   "source": [
    "!cp output/drawings/pose_hrnet/main_drawings_sketch/val_0_pred.jpg data/drawings/output_val_images/val_18_pred.jpg\n",
    "\n",
    "one_point(19)\n",
    "\n",
    "!rm data/drawings/annotations/person_keypoints_eval.json\n",
    "!cp data/drawings/annotations/person_keypoints_eval_sketch.json data/drawings/annotations/person_keypoints_eval.json"
   ]
  },
  {
   "cell_type": "code",
   "execution_count": 22,
   "metadata": {},
   "outputs": [],
   "source": [
    "!cp output/drawings/pose_hrnet/main_drawings_sketch/val_0_pred.jpg data/drawings/output_val_images/val_19_pred.jpg\n",
    "\n",
    "one_point(20)\n",
    "\n",
    "!rm data/drawings/annotations/person_keypoints_eval.json\n",
    "!cp data/drawings/annotations/person_keypoints_eval_sketch.json data/drawings/annotations/person_keypoints_eval.json"
   ]
  },
  {
   "cell_type": "code",
   "execution_count": 23,
   "metadata": {},
   "outputs": [],
   "source": [
    "!cp output/drawings/pose_hrnet/main_drawings_sketch/val_0_pred.jpg data/drawings/output_val_images/val_20_pred.jpg\n",
    "\n",
    "# one_point(3)\n",
    "\n",
    "# !rm data/drawings/annotations/person_keypoints_eval.json\n",
    "# !cp data/drawings/annotations/person_keypoints_eval_sketch.json data/drawings/annotations/person_keypoints_eval.json"
   ]
  },
  {
   "cell_type": "code",
   "execution_count": 24,
   "metadata": {},
   "outputs": [],
   "source": [
    "# for point in range(21):\n",
    "#     one_point(point)\n",
    "    \n",
    "#     !rm data/drawings/annotations/person_keypoints_eval.json\n",
    "#     !cp data/drawings/annotations/person_keypoints_eval_sketch.json data/drawings/annotations/person_keypoints_eval.json\n",
    "    \n",
    "#     !python tools/test.py  --cfg experiments/coco/hrnet/main_drawings_sketch.yaml  TEST.MODEL_FILE output/sketch/pose_hrnet/main/final_state.pth DATASET.ROOT data/drawings DATASET.TEST_SET eval DATASET.TRAIN_SET train\n",
    "    \n",
    "#     img = cv2.imread('output/drawings/pose_hrnet/main_drawings_sketch/val_0_pred.jpg', cv2.IMREAD_UNCHANGED) \n",
    "#     print(img.shape)\n",
    "#     img = cv2.cvtColor(img, cv2.COLOR_BGRA2BGR)\n",
    "\n",
    "#     plt.figure(figsize=(12, 10))\n",
    "#     plt.imshow(img)\n",
    "#     plt.show()"
   ]
  }
 ],
 "metadata": {
  "kernelspec": {
   "display_name": "high",
   "language": "python",
   "name": "high"
  },
  "language_info": {
   "codemirror_mode": {
    "name": "ipython",
    "version": 3
   },
   "file_extension": ".py",
   "mimetype": "text/x-python",
   "name": "python",
   "nbconvert_exporter": "python",
   "pygments_lexer": "ipython3",
   "version": "3.9.12"
  }
 },
 "nbformat": 4,
 "nbformat_minor": 4
}
